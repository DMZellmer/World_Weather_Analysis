{
 "cells": [
  {
   "cell_type": "code",
   "execution_count": 1,
   "id": "e611117e",
   "metadata": {},
   "outputs": [],
   "source": [
    "#import random\n",
    "import random\n"
   ]
  },
  {
   "cell_type": "code",
   "execution_count": 4,
   "id": "58ca04d0",
   "metadata": {},
   "outputs": [
    {
     "data": {
      "text/plain": [
       "0.21388422106011518"
      ]
     },
     "execution_count": 4,
     "metadata": {},
     "output_type": "execute_result"
    }
   ],
   "source": [
    "random.random()\n"
   ]
  },
  {
   "cell_type": "code",
   "execution_count": 7,
   "id": "dc5e58cb",
   "metadata": {},
   "outputs": [
    {
     "data": {
      "text/plain": [
       "85.76291513134886"
      ]
     },
     "execution_count": 7,
     "metadata": {},
     "output_type": "execute_result"
    }
   ],
   "source": [
    "random_number = random.randint(-90,89) + random.random()\n",
    "random_number"
   ]
  },
  {
   "cell_type": "code",
   "execution_count": 8,
   "id": "d86fd48f",
   "metadata": {},
   "outputs": [],
   "source": [
    "x = 1\n",
    "latitudes = []\n",
    "while x < 11:\n",
    "    random_lat = random.randint(-90,89) + random.random()\n",
    "    latitudes.append(random_lat)\n",
    "    x += 1"
   ]
  },
  {
   "cell_type": "code",
   "execution_count": 9,
   "id": "c3affe15",
   "metadata": {},
   "outputs": [],
   "source": [
    "import numpy as np"
   ]
  },
  {
   "cell_type": "code",
   "execution_count": 10,
   "id": "be5dc04f",
   "metadata": {},
   "outputs": [
    {
     "data": {
      "text/plain": [
       "47.02452179752777"
      ]
     },
     "execution_count": 10,
     "metadata": {},
     "output_type": "execute_result"
    }
   ],
   "source": [
    "np.random.uniform(-90.000, 90.000)"
   ]
  },
  {
   "cell_type": "code",
   "execution_count": 11,
   "id": "bcfe29da",
   "metadata": {},
   "outputs": [
    {
     "data": {
      "text/plain": [
       "array([ 65.28110415,  17.65448788, -75.180021  ,  53.05502784,\n",
       "        29.17750606, -81.78570421,  57.27829315,  80.88352383,\n",
       "       -18.6457799 , -86.56409488,  80.30886826, -36.47993316,\n",
       "       -57.96636778, -16.18275621, -47.41819334,  61.91781563,\n",
       "       -62.33582092,  86.13180233, -13.93048459,  57.18549884,\n",
       "        73.27646646, -81.43290868,  86.32274809,  27.15592097,\n",
       "       -36.64608857,  72.72542349, -85.11597001, -56.84994148,\n",
       "       -51.48566374, -68.89900854, -42.32208499, -53.20463686,\n",
       "       -16.77859808, -42.11411478,  39.96807024,  63.16848545,\n",
       "       -57.72548313,  76.47794077,   0.56641245,  89.7647772 ,\n",
       "        82.51045843, -87.82143337,  44.64282058,  38.10163147,\n",
       "       -52.03435006, -36.89003459,  78.63284741,   2.52138157,\n",
       "        67.39463893,  75.71200408])"
      ]
     },
     "execution_count": 11,
     "metadata": {},
     "output_type": "execute_result"
    }
   ],
   "source": [
    "np.random.uniform(-90.000, 90.000, size=50)"
   ]
  },
  {
   "cell_type": "code",
   "execution_count": 12,
   "id": "e22cf2ec",
   "metadata": {},
   "outputs": [],
   "source": [
    "# Import timeit.\n",
    "import timeit"
   ]
  },
  {
   "cell_type": "code",
   "execution_count": 14,
   "id": "cefb4aa4",
   "metadata": {},
   "outputs": [
    {
     "name": "stdout",
     "output_type": "stream",
     "text": [
      "24 µs ± 2.13 µs per loop (mean ± std. dev. of 7 runs, 10000 loops each)\n"
     ]
    }
   ],
   "source": [
    "%timeit np.random.uniform(-90.000, 90.000, size=1500)"
   ]
  },
  {
   "cell_type": "code",
   "execution_count": 15,
   "id": "b828ff40",
   "metadata": {},
   "outputs": [
    {
     "name": "stdout",
     "output_type": "stream",
     "text": [
      "3.07 ms ± 164 µs per loop (mean ± std. dev. of 7 runs, 100 loops each)\n"
     ]
    }
   ],
   "source": [
    "def latitudes(size):\n",
    "    latitudes = []\n",
    "    x = 0\n",
    "    while x < (size):\n",
    "        random_lat = random.randint(-90, 90) + random.random()\n",
    "        latitudes.append(random_lat)\n",
    "        x += 1\n",
    "    return latitudes\n",
    "# Call the function with 1500.\n",
    "%timeit latitudes(1500)"
   ]
  },
  {
   "cell_type": "code",
   "execution_count": null,
   "id": "f1bed515",
   "metadata": {},
   "outputs": [],
   "source": []
  }
 ],
 "metadata": {
  "kernelspec": {
   "display_name": "PythonData",
   "language": "python",
   "name": "pythondata"
  },
  "language_info": {
   "codemirror_mode": {
    "name": "ipython",
    "version": 3
   },
   "file_extension": ".py",
   "mimetype": "text/x-python",
   "name": "python",
   "nbconvert_exporter": "python",
   "pygments_lexer": "ipython3",
   "version": "3.8.8"
  }
 },
 "nbformat": 4,
 "nbformat_minor": 5
}
